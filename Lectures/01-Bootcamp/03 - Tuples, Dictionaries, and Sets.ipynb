{
 "cells": [
  {
   "cell_type": "markdown",
   "metadata": {},
   "source": [
    "# Programming for Data Science and Artificial Intelligence"
   ]
  },
  {
   "cell_type": "markdown",
   "metadata": {},
   "source": [
    "### Tuples"
   ]
  },
  {
   "cell_type": "markdown",
   "metadata": {},
   "source": [
    "Tuples are like lists, except that they cannot be modified once created, that is they are *immutable*. \n",
    "\n",
    "1. You can't add to tuples, so no extend or append\n",
    "2. You can't remove or insert, so no insert, remove, pop\n",
    "3. You can find, thus \"in\"  or indexing can be used\n",
    "4. Tuples are much faster than list\n",
    "\n",
    "*Make sense* to use tuples for write-protected data\n",
    "\n",
    "In Python, tuples are created using the syntax `(..., ..., ...)`, or even `..., ...`:"
   ]
  },
  {
   "cell_type": "markdown",
   "metadata": {},
   "source": [
    "Creating tuples"
   ]
  },
  {
   "cell_type": "code",
   "execution_count": 13,
   "metadata": {},
   "outputs": [
    {
     "name": "stdout",
     "output_type": "stream",
     "text": [
      "1:  (10, 20) <class 'tuple'>\n",
      "2:  (10, 20) <class 'tuple'>\n"
     ]
    }
   ],
   "source": [
    "point  = (10, 20)\n",
    "point2 = 10, 20\n",
    "print(\"1: \", point, type(point))\n",
    "print(\"2: \", point2, type(point2))"
   ]
  },
  {
   "cell_type": "markdown",
   "metadata": {},
   "source": [
    "Unpacking tuples"
   ]
  },
  {
   "cell_type": "code",
   "execution_count": 14,
   "metadata": {},
   "outputs": [
    {
     "name": "stdout",
     "output_type": "stream",
     "text": [
      "1: x = 10\n",
      "2: y = 20\n"
     ]
    }
   ],
   "source": [
    "x, y = point\n",
    "print(\"1: x =\", x)\n",
    "print(\"2: y =\", y)"
   ]
  },
  {
   "cell_type": "markdown",
   "metadata": {},
   "source": [
    "Cannot change"
   ]
  },
  {
   "cell_type": "code",
   "execution_count": 15,
   "metadata": {},
   "outputs": [],
   "source": [
    "#point[0] = 20 #errors"
   ]
  },
  {
   "cell_type": "markdown",
   "metadata": {},
   "source": [
    "### Dictionaries"
   ]
  },
  {
   "cell_type": "markdown",
   "metadata": {},
   "source": [
    "Dictionaries are also like lists, except that each element is a key-value pair. The syntax for dictionaries is `{key1 : value1, ...}`:"
   ]
  },
  {
   "cell_type": "markdown",
   "metadata": {},
   "source": [
    "Creating"
   ]
  },
  {
   "cell_type": "code",
   "execution_count": 16,
   "metadata": {},
   "outputs": [],
   "source": [
    "# empty_dict = {}\n",
    "\n",
    "empty_dict = dict()"
   ]
  },
  {
   "cell_type": "code",
   "execution_count": 17,
   "metadata": {},
   "outputs": [
    {
     "data": {
      "text/plain": [
       "{'Tom': 'Male', 'May': 'Female'}"
      ]
     },
     "execution_count": 17,
     "metadata": {},
     "output_type": "execute_result"
    }
   ],
   "source": [
    "empty_dict[\"Tom\"] = \"Male\"\n",
    "empty_dict[\"May\"] = \"Female\"\n",
    "empty_dict"
   ]
  },
  {
   "cell_type": "code",
   "execution_count": 18,
   "metadata": {},
   "outputs": [
    {
     "data": {
      "text/plain": [
       "{'May': 'Female'}"
      ]
     },
     "execution_count": 18,
     "metadata": {},
     "output_type": "execute_result"
    }
   ],
   "source": [
    "empty_dict.pop('Tom')\n",
    "empty_dict"
   ]
  },
  {
   "cell_type": "code",
   "execution_count": 19,
   "metadata": {},
   "outputs": [
    {
     "data": {
      "text/plain": [
       "{}"
      ]
     },
     "execution_count": 19,
     "metadata": {},
     "output_type": "execute_result"
    }
   ],
   "source": [
    "del empty_dict[\"May\"]\n",
    "empty_dict"
   ]
  },
  {
   "cell_type": "code",
   "execution_count": 20,
   "metadata": {},
   "outputs": [
    {
     "data": {
      "text/plain": [
       "{'Tom': 'Male', 'May': 'Female'}"
      ]
     },
     "execution_count": 20,
     "metadata": {},
     "output_type": "execute_result"
    }
   ],
   "source": [
    "empty_dict[\"Tom\"] = \"Male\"\n",
    "empty_dict[\"May\"] = \"Female\"\n",
    "empty_dict"
   ]
  },
  {
   "cell_type": "code",
   "execution_count": 21,
   "metadata": {},
   "outputs": [
    {
     "name": "stdout",
     "output_type": "stream",
     "text": [
      "Tom:Male\n",
      "May:Female\n"
     ]
    }
   ],
   "source": [
    "for key, value in empty_dict.items():\n",
    "    print(key, value, sep=\":\")"
   ]
  },
  {
   "cell_type": "code",
   "execution_count": 22,
   "metadata": {},
   "outputs": [
    {
     "name": "stdout",
     "output_type": "stream",
     "text": [
      "0:Tom:Male\n",
      "1:May:Female\n"
     ]
    }
   ],
   "source": [
    "for index, (key, value) in enumerate(empty_dict.items()):\n",
    "    print(index, key, value, sep=\":\")"
   ]
  },
  {
   "cell_type": "code",
   "execution_count": 23,
   "metadata": {},
   "outputs": [
    {
     "name": "stdout",
     "output_type": "stream",
     "text": [
      "1:  <class 'dict'>\n",
      "2:  {'Pineapple': 12, 'Orange': 10, 'Apple': 15}\n"
     ]
    }
   ],
   "source": [
    "some_dict = {\"Pineapple\" : 12,\n",
    "          \"Orange\" : 10,\n",
    "          \"Apple\" : 15,}\n",
    "\n",
    "print(\"1: \", type(some_dict))\n",
    "print(\"2: \", some_dict)"
   ]
  },
  {
   "cell_type": "code",
   "execution_count": 24,
   "metadata": {},
   "outputs": [
    {
     "name": "stdout",
     "output_type": "stream",
     "text": [
      "===============Menu===============\n",
      "Select the choice:\n",
      "1. Add product\n",
      "2. Del product\n",
      "3. Get sum by store\n",
      "0. Exit\n"
     ]
    }
   ],
   "source": [
    "# create a empty dictionary called product\n",
    "from sklearn.feature_selection import chi2\n",
    "\n",
    "\n",
    "product = dict()\n",
    "\n",
    "# has following key and values\n",
    "# product ID:price\n",
    "# product IS is split by - store_ID-productID\n",
    "# store ID is a two digit --> 11 means store 11\n",
    "# product ID is a four digit ---> 0120 means some product\n",
    "\n",
    "# i want you to create a menu using input()\n",
    "\n",
    "def menu():\n",
    "    print(\"=\"*15 + \"Menu\" + \"=\"*15)\n",
    "    print(\"Select the choice:\")\n",
    "    print(\"1. Add product\")\n",
    "    print(\"2. Del product\")\n",
    "    print(\"3. Get sum by store\")\n",
    "    print(\"0. Exit\")\n",
    "\n",
    "while(True):\n",
    "    menu()\n",
    "    choice = int(input())\n",
    "    if choice == 0:\n",
    "        break\n",
    "    # 1. add product (let's assume that the format is correct (optional: you can change the format))\n",
    "        # 1.1 if the product ID already exists, don't ADD, but alert user!\n",
    "    if choice == 1:\n",
    "        print(\"Please specify the product ID\")\n",
    "        product_ID = input()\n",
    "        if product_ID in product:\n",
    "            print(\"ID already exists. Try another ID.\")\n",
    "        else:\n",
    "            print(\"Please specify the price\")\n",
    "            price = input()\n",
    "            print(\"f{product_ID} with {price} is added...\")\n",
    "\n",
    "    # 2. del product (exact product ID)\n",
    "    if choice == 2:\n",
    "        print(\"Please specify the product ID\")\n",
    "        product_ID = input()\n",
    "        choice.pop(product_ID)\n",
    "        print(\"f{product_ID} removed...\")\n",
    "\n",
    "    # 3. get the sum of product price based on store ID\n",
    "    if choice == 3:\n",
    "        sum_store = 0\n",
    "        store_ID = input(\"Please specify the store ID\")\n",
    "        for pid, price in product:\n",
    "            if pid[:2] == store_ID:\n",
    "                sum_store = sum_store + price\n",
    "        print(f\"The sum price of store {store_ID} is {sum_store}\")\n",
    "\n",
    "        \n",
    "    \n",
    "    \n"
   ]
  },
  {
   "cell_type": "markdown",
   "metadata": {},
   "source": [
    "Accessing"
   ]
  },
  {
   "cell_type": "code",
   "execution_count": 25,
   "metadata": {},
   "outputs": [
    {
     "name": "stdout",
     "output_type": "stream",
     "text": [
      "1: Pineapple = 12\n",
      "2: Orange = 10\n",
      "3: Apple = 15\n"
     ]
    }
   ],
   "source": [
    "print(\"1: Pineapple = \" + str(some_dict[\"Pineapple\"]))\n",
    "print(\"2: Orange = \" + str(some_dict[\"Orange\"]))\n",
    "print(\"3: Apple = \" + str(some_dict[\"Apple\"]))"
   ]
  },
  {
   "cell_type": "markdown",
   "metadata": {},
   "source": [
    "Adding new key and value"
   ]
  },
  {
   "cell_type": "code",
   "execution_count": 26,
   "metadata": {},
   "outputs": [],
   "source": [
    "some_dict[\"Durian\"] = 50"
   ]
  },
  {
   "cell_type": "markdown",
   "metadata": {},
   "source": [
    "Looping in dictionary"
   ]
  },
  {
   "cell_type": "code",
   "execution_count": 27,
   "metadata": {},
   "outputs": [
    {
     "name": "stdout",
     "output_type": "stream",
     "text": [
      "1: Pineapple = 12\n",
      "1: Orange = 10\n",
      "1: Apple = 15\n",
      "1: Durian = 50\n",
      "2: Pineapple 12\n",
      "2: Orange 10\n",
      "2: Apple 15\n",
      "2: Durian 50\n",
      "3: Apple 15\n",
      "3: Durian 50\n",
      "3: Orange 10\n",
      "3: Pineapple 12\n",
      "4: 0 Pineapple 12\n",
      "4: 1 Orange 10\n",
      "4: 2 Apple 15\n",
      "4: 3 Durian 50\n"
     ]
    }
   ],
   "source": [
    "for key in some_dict:\n",
    "    print(\"1:\", key + \" = \" + str(some_dict[key]))\n",
    "\n",
    "#With items()\n",
    "for key, value in some_dict.items():\n",
    "    print(\"2:\", key, value)\n",
    "    \n",
    "#With sorted()\n",
    "for key, value in sorted(some_dict.items()):\n",
    "    print(\"3:\", key, value)\n",
    "    \n",
    "#With enumerate...remember that it will return as tuples for the pair\n",
    "for index, (key, value) in enumerate(some_dict.items()):\n",
    "    print(\"4:\", index, key, value)"
   ]
  },
  {
   "cell_type": "markdown",
   "metadata": {},
   "source": [
    "### Set\n",
    "\n",
    "Remember Set from high school? Python has the datatype for that.\n",
    " \n",
    "Recall to the characteristic of set, it has *no order* and *no duplication*."
   ]
  },
  {
   "cell_type": "code",
   "execution_count": 28,
   "metadata": {},
   "outputs": [
    {
     "name": "stdout",
     "output_type": "stream",
     "text": [
      "{'d', 'b', 'a', 'c', 'e'}\n",
      "5\n"
     ]
    }
   ],
   "source": [
    "set_a = {'d','e','a','a','a','b','b','c','a'}\n",
    "print(set_a) # all the duplication members are removed\n",
    "print(len(set_a)) # counting a total unique member"
   ]
  },
  {
   "cell_type": "code",
   "execution_count": 29,
   "metadata": {},
   "outputs": [
    {
     "name": "stdout",
     "output_type": "stream",
     "text": [
      "set_a={'d', 'c', 'b', 'a'}\n",
      "set_b={'d', 'c', 'b', 'a'}\n",
      "Is set_a is subset of set_b: True\n",
      "Is set_b is subset of set_a: True\n",
      "Is set_a and set_b are the same: True\n",
      "Intersection: {'c', 'a', 'b', 'd'}\n",
      "Union: {'a', 'b', 'd', 'c'}\n",
      "Difference: set() is an empyty set\n"
     ]
    }
   ],
   "source": [
    "set_a = set({'a','b','c','d'}) # You can explicitly using `set` constructor to declare a set\n",
    "set_b = set(['a','b','c','c','d','d']) # A list is possible to convert in to a set\n",
    "\n",
    "print(f\"{set_a=}\")\n",
    "print(f\"{set_b=}\")\n",
    "\n",
    "# A two set are equal if and only if set_a is a subset of set_b and set_b is a subset of set_a. Remember?\n",
    "print(\"Is set_a is subset of set_b:\", set_a.issubset(set_b))\n",
    "print(\"Is set_b is subset of set_a:\", set_b.issubset(set_a))\n",
    "\n",
    "# Or just use comparison\n",
    "print(\"Is set_a and set_b are the same:\", set_a == set_b) \n",
    "\n",
    "# Set object has the basic functions/operations we all love.\n",
    "print(\"Intersection:\", set_a.intersection(set_b))\n",
    "print(\"Union:\", set_a.union(set_b))\n",
    "print(\"Difference:\", set_a.difference(set_b), \"is an empyty set\")\n"
   ]
  },
  {
   "cell_type": "markdown",
   "metadata": {},
   "source": [
    "### Python Collections (Arrays)\n",
    "Here we completed all four basic collections in Python. The differences are as below\n",
    "\n",
    "[quote](https://www.w3schools.com/python/python_sets.asp)\n",
    ">- **List** is a collection which is ordered and changeable. Allows duplicate members.\n",
    ">- **Tuple** is a collection which is ordered and unchangeable. Allows duplicate members.\n",
    ">- **Set** is a collection which is unordered, unchangeable*, and unindexed. No duplicate members.\n",
    ">- **Dictionary** is a collection which is ordered** and changeable. No duplicate members.\n",
    "\n",
    "Can you use them interchangeably? Can you use `List` instead of `Set`? Well, if you try hard enough, you can. \n",
    "\n",
    "Remember, you can use a spoon to build a house, but why don't you use a hammer?\n",
    "\n",
    "Most likely, you don't know what is a hammer in the first place. That is why we should learn all the tools first, and later we can pick the suitable tool for the task."
   ]
  },
  {
   "cell_type": "markdown",
   "metadata": {},
   "source": [
    "### === Task 4 ===\n",
    "\n",
    "1. Create a tuple variable containing a person age, gender, and height, and then attempt to print the gender of the tuple variable.\n",
    "2. Create a dictionary of your age, name, gender, ID number.  Loop the dictionary and print the key - value.\n",
    "3. With a given integral number n, write a program to generate a dictionary that contains (i, i*i) such that is an integral number between 1 and n (both included). and then the program should print the dictionary. Suppose the following input is supplied to the program:\n",
    "\n",
    "        8\n",
    "    \n",
    "Then, the output should be:\n",
    "    \n",
    "        {1: 1, 2: 4, 3: 9, 4: 16, 5: 25, 6: 36, 7: 49, 8: 64}\n",
    "\n",
    "4. You are required to write a program to sort the (name, age, height) tuples by ascending order where name is string, age and height are numbers. The sort criteria is:\n",
    "\n",
    "- Sort based on name;\n",
    "- Then sort based on age;\n",
    "- Then sort by score.\n",
    "    \n",
    "The priority is that name > age > score. If the following tuples are given as input to the program:\n",
    "        \n",
    "        Tom,19,80\n",
    "        John,20,90\n",
    "        Jony,17,91\n",
    "        Jony,17,93\n",
    "        Json,21,85\n",
    "\n",
    "Then, the output of the program should be:\n",
    "\n",
    "        [('John', '20', '90'), ('Jony', '17', '91'), ('Jony', '17', '93'), ('Json', '21', '85'), ('Tom', '19', '80')]\n",
    "\n",
    "Hints: Use itemgetter to enable multiple sort keys.  In addition, sorted takes a argument called key.  Thus you can do sorted(the_tuple, key = itemgetter(0,1,2)), where 0, 1, 2 corresponds to name, age, height\n",
    "\n",
    "5. Write a function that accepts the following arguments\n",
    "- name, and age, where name is keyword argument with default of \"N/A\" two keyword arguments (i.e., default)\n",
    "- list of family salary where the length is unknown (e.g., 20000, 30000, 10000).  Then length is unknown is due to the fact that we never know the size of any family ahead.  Hint: Use `*args`\n",
    "- a dict of kids and their school name Peter = 'Saint Peter\", John = 'Pattaya International School'}.  Again, this size is unknown.  Hint: Use `*kwargs`\n",
    "\n",
    "Print all info in any preferred format.\n",
    "\n",
    "Supposed\n",
    "    \n",
    "`some_func(30, 30000, 40000, name='Chaky', John=\"some_school\", Peter=\"another_school\")`\n",
    "\n",
    "should print\n",
    "    \n",
    "            Chaky has age of 30 with family salary of 70000\n",
    "            The school of John is some_school\n",
    "            The school of Peter is another_school\n",
    "\n",
    "Some info: when working with multiple type of arguments, it is important to keep the order of arguments as follow, otherwise, you will receive a syntax error\n",
    "    \n",
    "`def example2(arg_1, arg_2, *args, kw_1=\"something\", kw_2=\"something\", **kwargs)`\n",
    "\n",
    "where arg_1 and 2 are normal arguments, `*args` are variable-length argument, kw_1 and 2 are keyword arguments, and `*kwargs` are dict variable length argument"
   ]
  }
 ],
 "metadata": {
  "kernelspec": {
   "display_name": "Python 3.8.10 64-bit",
   "language": "python",
   "name": "python3"
  },
  "language_info": {
   "codemirror_mode": {
    "name": "ipython",
    "version": 3
   },
   "file_extension": ".py",
   "mimetype": "text/x-python",
   "name": "python",
   "nbconvert_exporter": "python",
   "pygments_lexer": "ipython3",
   "version": "3.8.10"
  },
  "vscode": {
   "interpreter": {
    "hash": "916dbcbb3f70747c44a77c7bcd40155683ae19c65e1c03b4aa3499c5328201f1"
   }
  }
 },
 "nbformat": 4,
 "nbformat_minor": 4
}
