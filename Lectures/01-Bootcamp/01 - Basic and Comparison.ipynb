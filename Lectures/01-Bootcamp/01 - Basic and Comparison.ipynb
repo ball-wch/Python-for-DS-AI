{
 "cells": [
  {
   "cell_type": "markdown",
   "metadata": {},
   "source": [
    "# Programming for Data Science and Artificial Intelligence\n",
    "\n",
    "## 1 Introduction to Python\n",
    "\n",
    "### Readings: \n",
    "- https://docs.python.org/3/tutorial/"
   ]
  },
  {
   "cell_type": "markdown",
   "metadata": {},
   "source": [
    "### Basics"
   ]
  },
  {
   "cell_type": "markdown",
   "metadata": {},
   "source": [
    "Assigning variables.  By convention, variable names start with a lower-case letter."
   ]
  },
  {
   "cell_type": "code",
   "execution_count": 4,
   "metadata": {},
   "outputs": [],
   "source": [
    "#variables are dynamic typed\n",
    "x = 3 #integer\n",
    "x = 3.0 #float\n",
    "x = True #boolean\n",
    "x = 'hello' #string\n",
    "\n",
    "a, b = 1, 2  #multiple assignments\n",
    "PI   = 3.14  #use all-caps for constants\n",
    "#and = 1  #python keyword such as \"and\", \"or\", \"class\", \"True\", \"False\" cannot be used as variable name"
   ]
  },
  {
   "cell_type": "code",
   "execution_count": 5,
   "metadata": {},
   "outputs": [
    {
     "data": {
      "text/plain": [
       "int"
      ]
     },
     "execution_count": 5,
     "metadata": {},
     "output_type": "execute_result"
    }
   ],
   "source": [
    "x = 3\n",
    "type(x)"
   ]
  },
  {
   "cell_type": "code",
   "execution_count": 6,
   "metadata": {},
   "outputs": [
    {
     "data": {
      "text/plain": [
       "float"
      ]
     },
     "execution_count": 6,
     "metadata": {},
     "output_type": "execute_result"
    }
   ],
   "source": [
    "x = 3.\n",
    "type(x)"
   ]
  },
  {
   "cell_type": "code",
   "execution_count": 7,
   "metadata": {},
   "outputs": [
    {
     "data": {
      "text/plain": [
       "bool"
      ]
     },
     "execution_count": 7,
     "metadata": {},
     "output_type": "execute_result"
    }
   ],
   "source": [
    "x = True\n",
    "type(x)"
   ]
  },
  {
   "cell_type": "code",
   "execution_count": 8,
   "metadata": {},
   "outputs": [
    {
     "data": {
      "text/plain": [
       "str"
      ]
     },
     "execution_count": 8,
     "metadata": {},
     "output_type": "execute_result"
    }
   ],
   "source": [
    "x = 'Hello'\n",
    "type(x)"
   ]
  },
  {
   "cell_type": "code",
   "execution_count": 10,
   "metadata": {},
   "outputs": [
    {
     "data": {
      "text/plain": [
       "1"
      ]
     },
     "execution_count": 10,
     "metadata": {},
     "output_type": "execute_result"
    }
   ],
   "source": [
    "a, b, c = 1, 2, 3\n",
    "a"
   ]
  },
  {
   "cell_type": "code",
   "execution_count": 11,
   "metadata": {},
   "outputs": [
    {
     "data": {
      "text/plain": [
       "'string'"
      ]
     },
     "execution_count": 11,
     "metadata": {},
     "output_type": "execute_result"
    }
   ],
   "source": [
    "a, b, c = True, 1, \"string\"\n",
    "c"
   ]
  },
  {
   "cell_type": "code",
   "execution_count": 12,
   "metadata": {},
   "outputs": [],
   "source": [
    "# constrants are variable that you DO NOT want to change the value\n",
    "# by convention/practice, we like to assign constant UPPERCASE\n",
    "PI = 3.14"
   ]
  },
  {
   "cell_type": "markdown",
   "metadata": {},
   "source": [
    "Various ways to print"
   ]
  },
  {
   "cell_type": "markdown",
   "metadata": {},
   "source": [
    "Printing is very essential component in applications. Especially when you want to print the status of your program."
   ]
  },
  {
   "cell_type": "code",
   "execution_count": 13,
   "metadata": {},
   "outputs": [
    {
     "name": "stdout",
     "output_type": "stream",
     "text": [
      "1: X with newline: \n",
      " Hello\n",
      "2: X with .format: Hello\n",
      "3: X using f-string with Hello\n",
      "4: User/Desktop/Home\n",
      "5: Hello6: World\n",
      "7: \\n is used for newline\n",
      "8: \"Hi\n",
      "9: C style printing = 1.000000\n",
      "10: Casting with c style:  value1= 3.14. value2 = 1\n"
     ]
    }
   ],
   "source": [
    "print(\"1: X with newline: \\n\", x)  #comma for variable, \\n for newline\n",
    "print(\"2: X with .format: {}\".format(x))  #.format for inserting variable at particular position\n",
    "print(f\"3: X using f-string with {x}\")  #good for not forgetting to write comma, .format\n",
    "print(\"4: User\", \"Desktop\", \"Home\", sep=\"/\") #with separator\n",
    "print(\"5: Hello\", end='')  #disable newline\n",
    "print(\"6: World\")\n",
    "print(r\"7: \\n is used for newline\")  #use r-string for raw; useful for regular expressions\n",
    "print(\"8: \\\"Hi\")  #use \\ to escape \"\n",
    "print(\"9: C style printing = %f\" % 1.0)  #C-style; %s for string, %f for float, %d for int\n",
    "print(\"10: Casting with c style:  value1= %.2f. value2 = %d\" % (3.1415, 1.5))"
   ]
  },
  {
   "cell_type": "code",
   "execution_count": 14,
   "metadata": {},
   "outputs": [],
   "source": [
    "x = 1"
   ]
  },
  {
   "cell_type": "code",
   "execution_count": 15,
   "metadata": {},
   "outputs": [
    {
     "name": "stdout",
     "output_type": "stream",
     "text": [
      "Hello World 1 1 1 1 Hello again\n"
     ]
    }
   ],
   "source": [
    "print(\"Hello World\", x, x, x, x, \"Hello again\")"
   ]
  },
  {
   "cell_type": "code",
   "execution_count": 16,
   "metadata": {},
   "outputs": [
    {
     "name": "stdout",
     "output_type": "stream",
     "text": [
      "Hello World: 1; 10\n"
     ]
    }
   ],
   "source": [
    "# f-string\n",
    "y = 10\n",
    "print(f\"Hello World: {x}; {y}\")"
   ]
  },
  {
   "cell_type": "code",
   "execution_count": 17,
   "metadata": {},
   "outputs": [
    {
     "name": "stdout",
     "output_type": "stream",
     "text": [
      "Hello World: 3.14; 1.122\n"
     ]
    }
   ],
   "source": [
    "# f-string to control how many decimals\n",
    "x = 3.14444444\n",
    "y = 1.12222\n",
    "\n",
    "print(f\"Hello World: {x:.2f}; {y:.3f}\")"
   ]
  },
  {
   "cell_type": "code",
   "execution_count": 18,
   "metadata": {},
   "outputs": [
    {
     "name": "stdout",
     "output_type": "stream",
     "text": [
      "3.14444444     1.12222        \n"
     ]
    }
   ],
   "source": [
    "print(f\"{x:<15}{y:<15}\") # for right align"
   ]
  },
  {
   "cell_type": "code",
   "execution_count": 19,
   "metadata": {},
   "outputs": [
    {
     "name": "stdout",
     "output_type": "stream",
     "text": [
      "\"hi\"\n"
     ]
    }
   ],
   "source": [
    "# i literally want to print \"hi\"\n",
    "print(\"\\\"hi\\\"\")"
   ]
  },
  {
   "cell_type": "code",
   "execution_count": 20,
   "metadata": {},
   "outputs": [
    {
     "name": "stdout",
     "output_type": "stream",
     "text": [
      "User:::::::Desktop:::::::Folder\n"
     ]
    }
   ],
   "source": [
    "print(\"User\", \"Desktop\", \"Folder\", sep=\":::::::\")"
   ]
  },
  {
   "cell_type": "code",
   "execution_count": 21,
   "metadata": {},
   "outputs": [
    {
     "name": "stdout",
     "output_type": "stream",
     "text": [
      "=============== Start Programming ===============\n"
     ]
    }
   ],
   "source": [
    "print(\"=\"*15 + \" Start Programming \" + \"=\"*15)"
   ]
  },
  {
   "cell_type": "markdown",
   "metadata": {},
   "source": [
    "Booleans"
   ]
  },
  {
   "cell_type": "code",
   "execution_count": 22,
   "metadata": {},
   "outputs": [
    {
     "name": "stdout",
     "output_type": "stream",
     "text": [
      "<class 'bool'>\n",
      "<class 'int'>\n",
      "1: Is a boolean:  True\n",
      "2: Is a2 int:  True\n",
      "4: True and False:  False\n",
      "5: True or False:  True\n",
      "6: Not False:  True\n",
      "7: Not 0:  True\n"
     ]
    }
   ],
   "source": [
    "#boolean, can use either Boolean or int\n",
    "a  = True\n",
    "a2 = 10  #anything digit not 0 is count as True\n",
    "b  = False\n",
    "b2 = 0\n",
    "print(type(b))\n",
    "print(type(b2))\n",
    "print(\"1: Is a boolean: \", type(a) is bool)\n",
    "print(\"2: Is a2 int: \", isinstance(a2, int))\n",
    "\n",
    "print(\"4: True and False: \", True and False)\n",
    "print(\"5: True or False: \", True or False)\n",
    "print(\"6: Not False: \", not False)\n",
    "print(\"7: Not 0: \", not 0)"
   ]
  },
  {
   "cell_type": "code",
   "execution_count": 23,
   "metadata": {},
   "outputs": [
    {
     "name": "stdout",
     "output_type": "stream",
     "text": [
      "Chakky\n"
     ]
    }
   ],
   "source": [
    "# booleans is basically True or False\n",
    "# two possible values of boolean\n",
    "# bool_x = True # comment out somthing do Ctr/Cmd + /\n",
    "\n",
    "bool_x = True\n",
    "bool_y = False\n",
    "if (bool_x or bool_y):\n",
    "    print(\"Chakky\")"
   ]
  },
  {
   "cell_type": "code",
   "execution_count": 24,
   "metadata": {},
   "outputs": [],
   "source": [
    "x = 3\n",
    "y = 4\n",
    "if(x < 5 and y > 5):\n",
    "    print(\"x is less than 5 and y is greater than 5\")"
   ]
  },
  {
   "cell_type": "markdown",
   "metadata": {},
   "source": [
    "Arithmetic operations"
   ]
  },
  {
   "cell_type": "code",
   "execution_count": 25,
   "metadata": {},
   "outputs": [
    {
     "name": "stdout",
     "output_type": "stream",
     "text": [
      "1: 3+3     --> 6\n",
      "2: 3/3     --> 1.0\n",
      "3: 4 // 3  --> 1\n",
      "4: 4 mod 3 --> 1\n",
      "5: 4 ^ 2   --> 16\n",
      "6: With math.  1.0\n"
     ]
    }
   ],
   "source": [
    "print(\"1: 3+3     -->\", 3 + 3)\n",
    "print(\"2: 3/3     -->\", 3 / 3)\n",
    "print(\"3: 4 // 3  -->\", 4 // 3)  #integer division\n",
    "print(\"4: 4 mod 3 -->\", 4 % 3)  #modulo\n",
    "print(\"5: 4 ^ 2   -->\", 4 ** 2) #power\n",
    "\n",
    "import math\n",
    "print(\"6: With math. \", math.cos(2* math.pi))"
   ]
  },
  {
   "cell_type": "markdown",
   "metadata": {},
   "source": [
    "Operation between types"
   ]
  },
  {
   "cell_type": "code",
   "execution_count": 26,
   "metadata": {},
   "outputs": [
    {
     "name": "stdout",
     "output_type": "stream",
     "text": [
      "1: float + int  <class 'float'>\n",
      "2: int + int    <class 'int'>\n"
     ]
    }
   ],
   "source": [
    "#float + int = float\n",
    "#int + int = int\n",
    "#int/float + string = error\n",
    "print(\"1: float + int \", type(float(3) + int(3)))\n",
    "print(\"2: int + int   \", type(int(3) + int(3)))\n",
    "#print(\"string + int\", type(str(3) + int(3))) #error"
   ]
  },
  {
   "cell_type": "code",
   "execution_count": 27,
   "metadata": {},
   "outputs": [
    {
     "name": "stdout",
     "output_type": "stream",
     "text": [
      "10\n",
      "<class 'str'>\n"
     ]
    }
   ],
   "source": [
    "num = input()\n",
    "\n",
    "print(num)\n",
    "print(type(num))"
   ]
  },
  {
   "cell_type": "markdown",
   "metadata": {},
   "source": [
    "### === Task 1 ===\n",
    "\n",
    "1. Declare two strings with value \"3\" and \"4\". Converting them to int, and then perform addition\n",
    "\n",
    "2. Declare a variable x = 10, and then print a f-string saying \"my variable x = 10\" where 10 is from the x value.\n",
    "\n",
    "3. Perform a calculation of (10 mod 4 / 2) and convert to integer\n",
    "\n",
    "4. Get input from user using input(), and then print the type of the input <br>\n",
    "Hint: https://www.geeksforgeeks.org/taking-input-in-python/\n",
    "\n",
    "5. Declare three strings: \"Chaky\", \"John\", \"Tom\", and concatenate (connect) them into \"Chaky, John, Tom\""
   ]
  },
  {
   "cell_type": "markdown",
   "metadata": {},
   "source": [
    "1. Declare two strings with value \"3\" and \"4\". Converting them to int, and then perform addition"
   ]
  },
  {
   "cell_type": "code",
   "execution_count": 33,
   "metadata": {},
   "outputs": [
    {
     "name": "stdout",
     "output_type": "stream",
     "text": [
      "<class 'int'>\n",
      "<class 'int'>\n"
     ]
    },
    {
     "data": {
      "text/plain": [
       "7"
      ]
     },
     "execution_count": 33,
     "metadata": {},
     "output_type": "execute_result"
    }
   ],
   "source": [
    "x = \"3\"\n",
    "y = \"4\"\n",
    "print(type(int(x)))\n",
    "print(type(int(y)))\n",
    "\n",
    "int(3) + int(4)"
   ]
  },
  {
   "cell_type": "markdown",
   "metadata": {},
   "source": [
    "2. Declare a variable x = 10, and then print a f-string saying \"my variable x = 10\" where 10 is from the x value."
   ]
  },
  {
   "cell_type": "code",
   "execution_count": 29,
   "metadata": {},
   "outputs": [
    {
     "name": "stdout",
     "output_type": "stream",
     "text": [
      "my variable x = 10\n"
     ]
    }
   ],
   "source": [
    "x = 10\n",
    "print(f\"my variable x = {x}\")"
   ]
  },
  {
   "cell_type": "markdown",
   "metadata": {},
   "source": [
    "3. Perform a calculation of (10 mod 4 / 2) and convert to integer"
   ]
  },
  {
   "cell_type": "code",
   "execution_count": 30,
   "metadata": {},
   "outputs": [
    {
     "name": "stdout",
     "output_type": "stream",
     "text": [
      "1\n"
     ]
    }
   ],
   "source": [
    "print(int((10 % 4) / 2))"
   ]
  },
  {
   "cell_type": "markdown",
   "metadata": {},
   "source": [
    "4. Get input from user using input(), and then print the type of the input <br>\n",
    "Hint: https://www.geeksforgeeks.org/taking-input-in-python/"
   ]
  },
  {
   "cell_type": "code",
   "execution_count": 34,
   "metadata": {},
   "outputs": [
    {
     "name": "stdout",
     "output_type": "stream",
     "text": [
      "<class 'str'>\n"
     ]
    }
   ],
   "source": [
    "x = input(\"Enter the number :\")\n",
    "print(type(x))"
   ]
  },
  {
   "cell_type": "markdown",
   "metadata": {},
   "source": [
    "5. Declare three strings: \"Chaky\", \"John\", \"Tom\", and concatenate (connect) them into \"Chaky, John, Tom\""
   ]
  },
  {
   "cell_type": "code",
   "execution_count": 35,
   "metadata": {},
   "outputs": [
    {
     "name": "stdout",
     "output_type": "stream",
     "text": [
      "Chaky,John,Tom\n"
     ]
    }
   ],
   "source": [
    "x, y, z = \"Chaky\", \"John\", \"Tom\"\n",
    "\n",
    "print(x, y, z, sep = \",\")"
   ]
  },
  {
   "cell_type": "markdown",
   "metadata": {},
   "source": [
    "### Comparison"
   ]
  },
  {
   "cell_type": "markdown",
   "metadata": {},
   "source": [
    "if statement"
   ]
  },
  {
   "cell_type": "code",
   "execution_count": 36,
   "metadata": {},
   "outputs": [
    {
     "name": "stdout",
     "output_type": "stream",
     "text": [
      "3: statement1 and statement2 are False\n",
      "4: Still inside the else block!!\n",
      "5: Now outside the if block!\n"
     ]
    }
   ],
   "source": [
    "statement1 = False\n",
    "statement2 = False\n",
    "statement3 = True\n",
    "\n",
    "#use indentation, this is one annoying aspect of python!\n",
    "if statement1:\n",
    "    if statement3:\n",
    "        print(\"1: statement1 is True\")\n",
    "elif statement2:\n",
    "    print(\"2: statement2 is True\")\n",
    "else:\n",
    "    print(\"3: statement1 and statement2 are False\")\n",
    "    print(\"4: Still inside the else block!!\")\n",
    "    \n",
    "print(\"5: Now outside the if block!\")"
   ]
  },
  {
   "cell_type": "code",
   "execution_count": 39,
   "metadata": {},
   "outputs": [
    {
     "name": "stdout",
     "output_type": "stream",
     "text": [
      "B+\n"
     ]
    }
   ],
   "source": [
    "#1. get grade from the teracher\n",
    "grade = int(input())\n",
    "\n",
    "#2. define rules\n",
    "bool_a      = grade > 90\n",
    "bool_bplus  = grade > 80\n",
    "bool_b      = grade > 70\n",
    "bool_cplus  = grade > 60\n",
    "bool_c      = grade > 50\n",
    "\n",
    "#3. define if-elif-else clause\n",
    "if bool_a:\n",
    "    print(\"A\")\n",
    "elif bool_bplus:\n",
    "    print(\"B+\")\n",
    "elif bool_b:\n",
    "    print(\"B\")\n",
    "elif bool_cplus:\n",
    "    print\n",
    "elif bool_c:\n",
    "    print(\"C\")\n",
    "else:\n",
    "    print(\"F\")"
   ]
  },
  {
   "cell_type": "markdown",
   "metadata": {},
   "source": [
    "while statement"
   ]
  },
  {
   "cell_type": "code",
   "execution_count": 40,
   "metadata": {},
   "outputs": [
    {
     "name": "stdout",
     "output_type": "stream",
     "text": [
      "Inside while: 0\n",
      "Inside while: 1\n",
      "Inside while: 2\n",
      "Inside while: 3\n",
      "Inside while: 4\n",
      "2: done\n"
     ]
    }
   ],
   "source": [
    "i = 0\n",
    "while i < 5:\n",
    "    print(\"Inside while:\", i)\n",
    "    i = i + 1  #try i+=1\n",
    "print(\"2: done\")"
   ]
  },
  {
   "cell_type": "code",
   "execution_count": 44,
   "metadata": {},
   "outputs": [
    {
     "name": "stdout",
     "output_type": "stream",
     "text": [
      "Correct Password\n"
     ]
    }
   ],
   "source": [
    "num = input()\n",
    "\n",
    "password = \"10\"\n",
    "\n",
    "while num != password:\n",
    "    print(\"Wrong password! Input again\")\n",
    "    num = input()\n",
    "print(\"Correct Password\")"
   ]
  },
  {
   "cell_type": "code",
   "execution_count": 3,
   "metadata": {},
   "outputs": [
    {
     "name": "stdout",
     "output_type": "stream",
     "text": [
      "Wrong password! Input again\n",
      "Wrong password! Input again\n",
      "Wrong password! Input again\n",
      "Wrong password! Input again\n",
      "Wrong password! Input again\n",
      "Wrong password! Input again\n",
      "Wrong password! Input again\n",
      "Wrong password! Input again\n",
      "Correct Password\n"
     ]
    }
   ],
   "source": [
    "import random\n",
    "\n",
    "secret = random.randint(0, 10)\n",
    "\n",
    "num = int(input())\n",
    "\n",
    "while num != secret:\n",
    "    print(\"Wrong password! Input again\")\n",
    "    num = int(input())\n",
    "print(\"Correct Password\")"
   ]
  },
  {
   "cell_type": "markdown",
   "metadata": {},
   "source": [
    "comparison operators"
   ]
  },
  {
   "cell_type": "code",
   "execution_count": 41,
   "metadata": {},
   "outputs": [
    {
     "data": {
      "text/plain": [
       "(True, False, False, False, True, True, True, False)"
      ]
     },
     "execution_count": 41,
     "metadata": {},
     "output_type": "execute_result"
    }
   ],
   "source": [
    "2 > 1, 2 < 1, 2 > 2, 2 < 2, 2 >= 2, 2 <= 2, [1,2] == [1,2], not True"
   ]
  },
  {
   "cell_type": "markdown",
   "metadata": {},
   "source": [
    "### === Task 2 ===\n",
    "\n",
    "1. Get input from user using input().  If the number is less than 5, print \"less than\".  Otherwise, print \"higher than\". <br>\n",
    "Note: input() always returns str\n",
    "\n",
    "2. Write a simple number guessing game.  The program generates a random integer.  It then accepts input from users for a integer.  After the user input, the system outputs one of the three possible states whether the number is higher, lower or equal to the target integer.  If it is wrong, it will keep asking users for input.  Feel free to make any assumption for anything not stated."
   ]
  },
  {
   "cell_type": "markdown",
   "metadata": {},
   "source": [
    "1. Get input from user using input().  If the number is less than 5, print \"less than\".  Otherwise, print \"higher than\". <br>\n",
    "Note: input() always returns str"
   ]
  },
  {
   "cell_type": "code",
   "execution_count": 5,
   "metadata": {},
   "outputs": [
    {
     "name": "stdout",
     "output_type": "stream",
     "text": [
      "equal\n"
     ]
    }
   ],
   "source": [
    "number = int(input(\"Enter Number : \"))\n",
    "secret_num = 5\n",
    "if number < secret_num:\n",
    "    print(\"less than\")\n",
    "elif number > secret_num:\n",
    "    print(\"higher than\")\n",
    "else:\n",
    "    print(\"equal\")\n"
   ]
  },
  {
   "cell_type": "markdown",
   "metadata": {},
   "source": [
    "2. Write a simple number guessing game.  The program generates a random integer.  It then accepts input from users for a integer.  After the user input, the system outputs one of the three possible states whether the number is higher, lower or equal to the target integer.  If it is wrong, it will keep asking users for input.  Feel free to make any assumption for anything not stated."
   ]
  },
  {
   "cell_type": "code",
   "execution_count": 1,
   "metadata": {},
   "outputs": [
    {
     "name": "stdout",
     "output_type": "stream",
     "text": [
      "lower\n",
      "higher\n",
      "higher\n",
      "Correct\n"
     ]
    }
   ],
   "source": [
    "number = int(input())\n",
    "\n",
    "import random\n",
    "\n",
    "secret = random.randint(0,5)\n",
    "\n",
    "while number != secret:\n",
    "    if number > secret:\n",
    "        print(\"higher\")\n",
    "    elif number < secret:\n",
    "        print(\"lower\")\n",
    "    number = int(input())\n",
    "print(\"Correct\")"
   ]
  }
 ],
 "metadata": {
  "kernelspec": {
   "display_name": "Python 3 (ipykernel)",
   "language": "python",
   "name": "python3"
  },
  "language_info": {
   "codemirror_mode": {
    "name": "ipython",
    "version": 3
   },
   "file_extension": ".py",
   "mimetype": "text/x-python",
   "name": "python",
   "nbconvert_exporter": "python",
   "pygments_lexer": "ipython3",
   "version": "3.8.10"
  },
  "vscode": {
   "interpreter": {
    "hash": "916dbcbb3f70747c44a77c7bcd40155683ae19c65e1c03b4aa3499c5328201f1"
   }
  }
 },
 "nbformat": 4,
 "nbformat_minor": 4
}
