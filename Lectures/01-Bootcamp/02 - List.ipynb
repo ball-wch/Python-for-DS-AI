{
 "cells": [
  {
   "cell_type": "markdown",
   "metadata": {},
   "source": [
    "# Programming for Data Science and Artificial Intelligence"
   ]
  },
  {
   "cell_type": "markdown",
   "metadata": {},
   "source": [
    "### List"
   ]
  },
  {
   "cell_type": "markdown",
   "metadata": {},
   "source": [
    "String as list"
   ]
  },
  {
   "cell_type": "code",
   "execution_count": 1,
   "metadata": {},
   "outputs": [
    {
     "name": "stdout",
     "output_type": "stream",
     "text": [
      "1: Length:       13\n",
      "2: string[0]:    S\n",
      "3: string[0:2]:  St\n",
      "4: string[:3]:   Str\n",
      "5: string[3:]:   ing is fun\n",
      "6: string[:]:    String is fun\n",
      "7: string[-2:]:  un\n",
      "8: string[-0:]:  String is fun\n",
      "9: string[::2]:  Srn sfn\n",
      "10: string[1::2]:  Srn\n",
      "11: Replace ing with ange:  Strange is fun\n"
     ]
    }
   ],
   "source": [
    "string = \"String is fun\"  #string\n",
    "print(\"1: Length:      \", len(string))\n",
    "print(\"2: string[0]:   \", string[0])\n",
    "print(\"3: string[0:2]: \", string[0:2])  #it will exclude the stop\n",
    "print(\"4: string[:3]:  \", string[:3]) #start beginning with stop 3 thus 0,1,2\n",
    "print(\"5: string[3:]:  \", string[3:])  #start with 3 and end wherever thus, 3, 4, 5...\n",
    "print(\"6: string[:]:   \", string[:]) #everything\n",
    "print(\"7: string[-2:]: \", string[-2:]) #from second last until the end, thus last+1, and last\n",
    "print(\"8: string[-0:]: \", string[-0:]) #basically whole thing\n",
    "print(\"9: string[::2]: \", string[::2]) #skip every 2\n",
    "print(\"10: string[1::2]: \", string[0:5:2])  #from first, skip every 2\n",
    "print(\"11: Replace ing with ange: \", string.replace(\"ing\", \"ange\"))"
   ]
  },
  {
   "cell_type": "code",
   "execution_count": 14,
   "metadata": {},
   "outputs": [
    {
     "name": "stdout",
     "output_type": "stream",
     "text": [
      "['00021', '3233', '3221']\n"
     ]
    }
   ],
   "source": [
    "product_ID = \"00021-3233-3221\"\n",
    "list_of_IDs = product_ID.split(\"-\")\n",
    "print(list_of_IDs)"
   ]
  },
  {
   "cell_type": "code",
   "execution_count": 20,
   "metadata": {},
   "outputs": [
    {
     "name": "stdout",
     "output_type": "stream",
     "text": [
      "[10, 8, 6, 4, 2]\n"
     ]
    }
   ],
   "source": [
    "# range(start:stop:step)\n",
    "# range(stop)\n",
    "print(list(range(10,0,-2)))"
   ]
  },
  {
   "cell_type": "markdown",
   "metadata": {},
   "source": [
    "Making list"
   ]
  },
  {
   "cell_type": "code",
   "execution_count": 2,
   "metadata": {},
   "outputs": [
    {
     "name": "stdout",
     "output_type": "stream",
     "text": [
      "1: Range            [0, 1, 2, 3, 4, 5, 6, 7, 8, 9]\n",
      "2: With step 2      [1, 3, 5, 7, 9]\n",
      "3: With start -10:  [-5, -4, -3, -2, -1, 0, 1, 2, 3, 4]\n",
      "4: 5 zeros:  [0, 0, 0, 0, 0]\n"
     ]
    }
   ],
   "source": [
    "list_num     = [1, 2, 3, 4] #list of nums\n",
    "list_string  = [\"Chaky\", \"John\", \"Peter\"] #list of strings\n",
    "list_combine = [\"Chaky\", 1, 2, True]  #commonly not used, because difficult to handle\n",
    "\n",
    "#use range()\n",
    "print(\"1: Range           \", list(range(10)))  #0 to 9  range(start, stop, step)\n",
    "print(\"2: With step 2     \", list(range(1, 10, 2)))\n",
    "print(\"3: With start -10: \", list(range(-5, 5)))\n",
    "\n",
    "#use multiplication\n",
    "print(\"4: 5 zeros: \", [0] * 5)"
   ]
  },
  {
   "cell_type": "markdown",
   "metadata": {},
   "source": [
    "Changing elements in the list"
   ]
  },
  {
   "cell_type": "code",
   "execution_count": 3,
   "metadata": {},
   "outputs": [
    {
     "name": "stdout",
     "output_type": "stream",
     "text": [
      "1: Changing value at index 0 to 0:  [0, 2, 3]\n",
      "2: Changing using slicing method:  [5, 6, 3]\n"
     ]
    }
   ],
   "source": [
    "a    = [1, 2, 3]\n",
    "a[0] = 0\n",
    "print(\"1: Changing value at index 0 to 0: \", a)\n",
    "a[0:2] = 5, 6\n",
    "print(\"2: Changing using slicing method: \", a)"
   ]
  },
  {
   "cell_type": "markdown",
   "metadata": {},
   "source": [
    "Appending and extending"
   ]
  },
  {
   "cell_type": "code",
   "execution_count": 4,
   "metadata": {},
   "outputs": [
    {
     "name": "stdout",
     "output_type": "stream",
     "text": [
      "1: A append b [1, 2, [3]]\n",
      "2: A extend b [1, 2, [3], 3]\n",
      "3: A append c [1, 2, [3], 3, 3]\n"
     ]
    }
   ],
   "source": [
    "#append and extend list\n",
    "a = [1, 2]\n",
    "b = [3]\n",
    "c = 3\n",
    "a.append(b)  #append whole list\n",
    "print(\"1: A append b\", a)\n",
    "a.extend(b) #extend the original list\n",
    "print(\"2: A extend b\", a)\n",
    "a.append(c)\n",
    "print(\"3: A append c\", a)\n",
    "#a.extend(c)# error because c is not iterable"
   ]
  },
  {
   "cell_type": "markdown",
   "metadata": {},
   "source": [
    "Sorting"
   ]
  },
  {
   "cell_type": "code",
   "execution_count": 5,
   "metadata": {},
   "outputs": [
    {
     "name": "stdout",
     "output_type": "stream",
     "text": [
      "1: Sorted [3, 19, 5]:  [3, 5, 19]\n",
      "2: Sorted ['Car', 'Apple', 'Boy']:  ['Apple', 'Boy', 'Car']\n",
      "3: Reverse:  None ['Car', 'Boy', 'Apple']\n"
     ]
    }
   ],
   "source": [
    "a = [3,19,5]\n",
    "b = [\"Car\", \"Apple\", \"Boy\"]\n",
    "a.sort()\n",
    "b.sort()  #try put argument reverse=True\n",
    "print(\"1: Sorted [3, 19, 5]: \", a)\n",
    "print(\"2: Sorted ['Car', 'Apple', 'Boy']: \", b)\n",
    "print(\"3: Reverse: \", b.reverse(), b)  #remember that b.reverse or sort is in place, and return None"
   ]
  },
  {
   "cell_type": "markdown",
   "metadata": {},
   "source": [
    "Checking presence"
   ]
  },
  {
   "cell_type": "code",
   "execution_count": 6,
   "metadata": {},
   "outputs": [
    {
     "name": "stdout",
     "output_type": "stream",
     "text": [
      "1: 3 in a? True\n",
      "2: 4 in a? False\n"
     ]
    }
   ],
   "source": [
    "print(\"1: 3 in a?\", 3 in a)\n",
    "print(\"2: 4 in a?\", 4 in a)"
   ]
  },
  {
   "cell_type": "markdown",
   "metadata": {},
   "source": [
    "Looping list"
   ]
  },
  {
   "cell_type": "code",
   "execution_count": 7,
   "metadata": {},
   "outputs": [
    {
     "name": "stdout",
     "output_type": "stream",
     "text": [
      "1: I:  0\n",
      "1: I:  1\n",
      "1: I:  2\n",
      "2: 8\n",
      "2: 9\n",
      "2: 10\n",
      "3: 8\n",
      "3: 9\n",
      "3: 10\n",
      "4: Index: 0; value: 8\n",
      "4: Index: 1; value: 9\n",
      "4: Index: 2; value: 10\n"
     ]
    }
   ],
   "source": [
    "for i in range(3): #does not include 3, start with 0\n",
    "    print(\"1: I: \", i)\n",
    "\n",
    "#given a list\n",
    "some_list = [8, 9, 10]\n",
    "\n",
    "for num in some_list:  #use in\n",
    "    print(\"2:\", num)\n",
    "\n",
    "for i in range(len(some_list)):  #use len (old guys love to do this!)\n",
    "    print(\"3:\", some_list[i])\n",
    "\n",
    "for ix, (value) in enumerate(some_list):\n",
    "    print(f\"4: Index: {ix}; value: {value}\")"
   ]
  },
  {
   "cell_type": "markdown",
   "metadata": {},
   "source": [
    "Set in list"
   ]
  },
  {
   "cell_type": "code",
   "execution_count": 8,
   "metadata": {},
   "outputs": [
    {
     "name": "stdout",
     "output_type": "stream",
     "text": [
      "1: Set a - i.e., no duplicates:  {'Charmander', 'Squirtle', 'Bulbasaur'}\n",
      "2: Set intersection:  {'Squirtle'}\n",
      "3: Set a - b:  {'Charmander', 'Bulbasaur'}\n",
      "4: Set b - a:  {'Caterpie', 'Pidgey'}\n",
      "5: Set (a-b) + (b-a):  {'Pidgey', 'Bulbasaur', 'Charmander', 'Caterpie'}\n",
      "6: Set (a-b) + (b-a):  {'Pidgey', 'Bulbasaur', 'Charmander', 'Caterpie'}\n",
      "7: Set a U b {'Caterpie', 'Pidgey', 'Squirtle', 'Bulbasaur', 'Charmander'}\n"
     ]
    }
   ],
   "source": [
    "list_a = ['Bulbasaur', 'Charmander', 'Squirtle', 'Charmander']\n",
    "list_b = ['Caterpie', 'Pidgey', 'Squirtle']\n",
    "set_a  = set(list_a)\n",
    "print(\"1: Set a - i.e., no duplicates: \", set_a)\n",
    "set_b  = set(list_b)\n",
    "\n",
    "#intersect; make sure to convert list to set first!\n",
    "print(\"2: Set intersection: \", set_a.intersection(set_b))\n",
    "print(\"3: Set a - b: \", set_a.difference(set_b))\n",
    "print(\"4: Set b - a: \", set_b.difference(set_a))\n",
    "print(\"5: Set (a-b) + (b-a): \", set_a.symmetric_difference(set_b))\n",
    "print(\"6: Set (a-b) + (b-a): \", set_b.symmetric_difference(set_a)) #same result both sides\n",
    "print(\"7: Set a U b\", set_a.union(set_b))  #remove any duplicate intersection"
   ]
  },
  {
   "cell_type": "markdown",
   "metadata": {},
   "source": [
    "Randomization in list"
   ]
  },
  {
   "cell_type": "code",
   "execution_count": 9,
   "metadata": {},
   "outputs": [
    {
     "name": "stdout",
     "output_type": "stream",
     "text": [
      "1: Some random list:  [4, 3, 6, 7, 1, 1, 10, 3, 6, 5]\n",
      "2: Suffled list:  [4, 0, 3, 1, 8, 5, 9, 7, 2, 6]\n",
      "3: Sampled three elements from a list:  [1, 7, 8]\n",
      "4: Choose one element randomly from a list:  5\n",
      "5: Random choice to put in your algorithm:  fridge\n"
     ]
    }
   ],
   "source": [
    "# Making random_list is also a common task in research\n",
    "import random\n",
    "\n",
    "some_rand_list = []\n",
    "\n",
    "for i in range(10):\n",
    "    some_rand_list.append(random.randint(1, 10))  #randint(a, b) return random integer N where a<=N<=b\n",
    "print(\"1: Some random list: \", some_rand_list)\n",
    "\n",
    "#Another way to random is to use shuffle\n",
    "a = list(range(10))\n",
    "random.shuffle(a)  #this is in place!  so it will return None!\n",
    "print(\"2: Suffled list: \", a)\n",
    "print(\"3: Sampled three elements from a list: \", random.sample(a, 3))\n",
    "print(\"4: Choose one element randomly from a list: \", random.choice(a))\n",
    "\n",
    "#choice is useful for words, e.g., \n",
    "my_dictionary = ['fridge', 'pen', 'apple']\n",
    "print(\"5: Random choice to put in your algorithm: \", random.choice(my_dictionary))"
   ]
  },
  {
   "cell_type": "markdown",
   "metadata": {},
   "source": [
    "Itertools library"
   ]
  },
  {
   "cell_type": "code",
   "execution_count": 10,
   "metadata": {},
   "outputs": [
    {
     "name": "stdout",
     "output_type": "stream",
     "text": [
      "1: All possible permuations:  [('1', '2', '3'), ('1', '3', '2'), ('2', '1', '3'), ('2', '3', '1'), ('3', '1', '2'), ('3', '2', '1')]\n",
      "2: All possible pairs, ordered-sensitive:  [('1', '2'), ('1', '3'), ('2', '1'), ('2', '3'), ('3', '1'), ('3', '2')]\n",
      "3: All possible pairs, not ordered-sensitive:  [('1', '2'), ('1', '3'), ('2', '3')]\n"
     ]
    }
   ],
   "source": [
    "from itertools import permutations, combinations\n",
    "print(\"1: All possible permuations: \", list(permutations(['1','2','3'])))\n",
    "print(\"2: All possible pairs, ordered-sensitive: \", list(permutations(['1','2','3'],2)))\n",
    "print(\"3: All possible pairs, not ordered-sensitive: \", list(combinations(['1','2','3'], 2)))"
   ]
  },
  {
   "cell_type": "markdown",
   "metadata": {},
   "source": [
    "List comprehension"
   ]
  },
  {
   "cell_type": "code",
   "execution_count": 11,
   "metadata": {
    "scrolled": true
   },
   "outputs": [
    {
     "name": "stdout",
     "output_type": "stream",
     "text": [
      "1: [2, 3, 4]\n",
      "2: [3, 4, 5]\n"
     ]
    }
   ],
   "source": [
    "# [ expression for item in list if conditional ]\n",
    "#let's say i have this list\n",
    "x = [1, 2, 3]\n",
    "#I want to +1 to every element to the list, I can do\n",
    "for i in range(len(x)):\n",
    "    x[i] +=1\n",
    "print(\"1:\", x)\n",
    "#better yet - use list comprehension\n",
    "new_x = [num + 1 for num in x]  #remember to enclose with []!!\n",
    "print(\"2:\", new_x)"
   ]
  },
  {
   "cell_type": "markdown",
   "metadata": {},
   "source": [
    "Nested list"
   ]
  },
  {
   "cell_type": "code",
   "execution_count": 12,
   "metadata": {},
   "outputs": [
    {
     "name": "stdout",
     "output_type": "stream",
     "text": [
      "1: L1:  [1, [2, 3], [4, 5], [[6, 7], 8]]\n",
      "2: Length of L1:  4\n",
      "3: l1[3][1]:  8\n"
     ]
    }
   ],
   "source": [
    "l1 = [1,[2,3], [4,5], [[6, 7], 8]]\n",
    "print(\"1: L1: \", l1)\n",
    "print(\"2: Length of L1: \", len(l1))\n",
    "print(\"3: l1[3][1]: \", l1[3][1])"
   ]
  },
  {
   "cell_type": "code",
   "execution_count": 23,
   "metadata": {},
   "outputs": [
    {
     "name": "stdout",
     "output_type": "stream",
     "text": [
      "Valid\n"
     ]
    }
   ],
   "source": [
    "import re\n",
    "\n",
    "pattern = \"^[a-zA-Z0-9]+@[a-zA-Z0-9]+\\.[a-z]{1,3}$\"\n",
    "\n",
    "a = \"ball@ball.com\"\n",
    "\n",
    "if re.match(pattern, a):\n",
    "    print(\"Valid\")"
   ]
  },
  {
   "cell_type": "code",
   "execution_count": 25,
   "metadata": {},
   "outputs": [
    {
     "name": "stdout",
     "output_type": "stream",
     "text": [
      "please input your name (Type exit to leave)\n",
      "please input your email\n",
      "please input your name (Type exit to leave)\n",
      "please input your email\n",
      "please input your name (Type exit to leave)\n",
      "['ball', 'yok']\n",
      "['ball@ball.com', 'yok@yok.com']\n"
     ]
    }
   ],
   "source": [
    "import re\n",
    "\n",
    "pattern = \"^[a-zA-Z0-9]+@[a-zA-Z0-9]+\\.[a-z]{1,3}$\"\n",
    "\n",
    "i = 0\n",
    "list_of_names   = []\n",
    "list_of_emails  = []\n",
    "\n",
    "while(True):\n",
    "    print(\"please input your name (Type exit to leave)\")\n",
    "    name = input()\n",
    "    if name == \"exit\":\n",
    "        break\n",
    "    print(\"please input your email\")\n",
    "    email = input()\n",
    "\n",
    "    if not re.match(pattern, email):\n",
    "        continue\n",
    "\n",
    "    #(done!) before you append, if the name already exists or email already exixt, tell them to try agian...(Hint: using in)\n",
    "    if(name in list_of_names or email in list_of_emails):\n",
    "        continue\n",
    "\n",
    "    list_of_emails.append(email)\n",
    "    list_of_names.append(name)\n",
    "\n",
    "list_of_names.sort()\n",
    "list_of_emails.sort()\n",
    "\n",
    "print(list_of_names)\n",
    "print(list_of_emails)"
   ]
  },
  {
   "cell_type": "code",
   "execution_count": 26,
   "metadata": {},
   "outputs": [
    {
     "name": "stdout",
     "output_type": "stream",
     "text": [
      "0:Sword\n",
      "1:Magic\n",
      "2:Sheild\n"
     ]
    }
   ],
   "source": [
    "# enumerate\n",
    "\n",
    "x = [\"Sword\", \"Magic\", \"Sheild\"]\n",
    "\n",
    "for index, item in enumerate(x):\n",
    "    print(index, item, sep=\":\")"
   ]
  },
  {
   "cell_type": "code",
   "execution_count": 27,
   "metadata": {},
   "outputs": [
    {
     "name": "stdout",
     "output_type": "stream",
     "text": [
      "5\n"
     ]
    }
   ],
   "source": [
    "import random\n",
    "\n",
    "x = list(range(10))\n",
    "\n",
    "print(random.choice(x))"
   ]
  },
  {
   "cell_type": "code",
   "execution_count": 30,
   "metadata": {},
   "outputs": [
    {
     "name": "stdout",
     "output_type": "stream",
     "text": [
      "Python\n"
     ]
    }
   ],
   "source": [
    "dictionaries = [\"Python\", \"List\", \"Ball\"]\n",
    "\n",
    "secret = random.choice(dictionaries)\n",
    "\n",
    "print(secret)"
   ]
  },
  {
   "cell_type": "code",
   "execution_count": 32,
   "metadata": {},
   "outputs": [
    {
     "name": "stdout",
     "output_type": "stream",
     "text": [
      "['Ball', 'List']\n"
     ]
    }
   ],
   "source": [
    "print(random.sample(dictionaries, 2))"
   ]
  },
  {
   "cell_type": "code",
   "execution_count": 33,
   "metadata": {},
   "outputs": [
    {
     "name": "stdout",
     "output_type": "stream",
     "text": [
      "[2, 3, 4]\n"
     ]
    }
   ],
   "source": [
    "x = [1, 2, 3]\n",
    "new_list = [num + 1 for num in x]\n",
    "print(new_list)"
   ]
  },
  {
   "cell_type": "markdown",
   "metadata": {},
   "source": [
    "Challenge!"
   ]
  },
  {
   "cell_type": "code",
   "execution_count": 35,
   "metadata": {},
   "outputs": [
    {
     "name": "stdout",
     "output_type": "stream",
     "text": [
      "Number of coins: 6\n",
      "Curent level:  2\n",
      "Place where the monster is [1, 3, 5]\n"
     ]
    }
   ],
   "source": [
    "game_map = []\n",
    "\n",
    "for _ in range(15):\n",
    "    game_map.append(random.randint(0, 2))\n",
    "\n",
    "wallet = 0\n",
    "level = 0\n",
    "monster = 0\n",
    "dangerous_place = []\n",
    "\n",
    "for index, event in enumerate(game_map):\n",
    "    if event == 0:\n",
    "        pass\n",
    "\n",
    "    if event == 1:\n",
    "        dangerous_place.append(index)\n",
    "        \n",
    "        monster += 1\n",
    "\n",
    "        if (level < monster + 1):\n",
    "            level += 1\n",
    "            monster = 0\n",
    "\n",
    "    if event == 2:\n",
    "        wallet += 1\n",
    "\n",
    "\n",
    "\n",
    "print(\"Number of coins:\", wallet)\n",
    "print(\"Curent level: \", level)\n",
    "print(\"Place where the monster is\", dangerous_place)"
   ]
  },
  {
   "cell_type": "markdown",
   "metadata": {},
   "source": [
    "### === Task 3 ===\n",
    "\n",
    "1. Declare a string \"Python is cool\".  Get the first 6 letters \"Python\".\n",
    "\n",
    "2. Similarly, print the last 4 letters \"cool\".\n",
    "\n",
    "3. Print the \"is\"\n",
    "\n",
    "4. Declare a string \"Malkahc\".  Print them reversely.\n",
    "\n",
    "5. Declare a string \"dffdfPkyktkhkokn\".  Print by skipping \"dffdf\", and then from that index onward, skip the even letters, i.e., the \"k\".  It should print \"Python\"\n",
    "\n",
    "6. Generate a list from 0 to 9\n",
    "\n",
    "7. Generate a list from 1 to 9 \n",
    "\n",
    "8. Generate a list from -9 to 9 skipping even numbers\n",
    "\n",
    "9. Continuing, append value 10 to list\n",
    "\n",
    "10. Continuing, check the index of value -1\n",
    "\n",
    "11. Continuing, check the length of list\n",
    "\n",
    "12. Continuing, remove the value 10\n",
    "\n",
    "13. Continuing, remove whatever value at index 5\n",
    "\n",
    "14. Continuing, check whether value -20 is in the list\n",
    "\n",
    "15. Continuing, shuffle the list, and then perform sort()\n",
    "\n",
    "16. Continuing, print all the values of the list by looping them\n",
    "\n",
    "17. Continuing, randomly choose one value from the list\n",
    "\n",
    "18. Continuing, print all the posible paired-permutations\n",
    "\n",
    "19. Continuing, using list comprehension, add 1 to all value in the list\n",
    "\n",
    "20. Continuing, using a for loop and enumerate, print the value in the list, as well as their index\n",
    "\n",
    "21. Create two list of length 3. One list contains your friends name, and another list contains their makeup ID number.  Using zip, print the name along the ID number\n",
    "\n",
    "22. Create a list containing [1, 1, 2, 2].  Using set, print the unique values.  Then print the length of this unique set.\n",
    "\n",
    "23. See below code.  Print only the eeg signal and event separately from this nested list using (1) for loop, (2) list comprehension\n",
    "\n",
    "24. Continuing, print only the eeg signal with event = 2 using list comprehension"
   ]
  },
  {
   "cell_type": "code",
   "execution_count": 13,
   "metadata": {},
   "outputs": [
    {
     "name": "stdout",
     "output_type": "stream",
     "text": [
      "EEG signal:  [[[8, 9], 1], [[3, 3], 2], [[2, 3], 2]]\n"
     ]
    }
   ],
   "source": [
    "two_channel_eeg_signal1 = [8, 9]\n",
    "event1 = 1\n",
    "two_channel_eeg_signal2 = [3, 3]\n",
    "event2 = 2\n",
    "two_channel_eeg_signal3 = [2, 3]\n",
    "event3 = 2\n",
    "some_nested_list = []\n",
    "some_nested_list.append([two_channel_eeg_signal1, event1])\n",
    "some_nested_list.append([two_channel_eeg_signal2, event2])\n",
    "some_nested_list.append([two_channel_eeg_signal3, event3])\n",
    "print(\"EEG signal: \", some_nested_list)"
   ]
  }
 ],
 "metadata": {
  "kernelspec": {
   "display_name": "Python 3.8.10 64-bit",
   "language": "python",
   "name": "python3"
  },
  "language_info": {
   "codemirror_mode": {
    "name": "ipython",
    "version": 3
   },
   "file_extension": ".py",
   "mimetype": "text/x-python",
   "name": "python",
   "nbconvert_exporter": "python",
   "pygments_lexer": "ipython3",
   "version": "3.8.10"
  },
  "vscode": {
   "interpreter": {
    "hash": "916dbcbb3f70747c44a77c7bcd40155683ae19c65e1c03b4aa3499c5328201f1"
   }
  }
 },
 "nbformat": 4,
 "nbformat_minor": 4
}
